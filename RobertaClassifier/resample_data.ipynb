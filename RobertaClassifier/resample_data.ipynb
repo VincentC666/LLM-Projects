{
 "cells": [
  {
   "cell_type": "code",
   "id": "initial_id",
   "metadata": {
    "collapsed": true,
    "ExecuteTime": {
     "end_time": "2025-07-15T23:19:06.502594Z",
     "start_time": "2025-07-15T23:19:01.052982Z"
    }
   },
   "source": [
    "import pandas as pd\n",
    "train = pd.read_csv('data/yelp_review_clean/train.csv')\n",
    "test = pd.read_csv('data/yelp_review_clean/test.csv')\n",
    "print(train.describe())\n",
    "print(test.describe())"
   ],
   "outputs": [
    {
     "name": "stdout",
     "output_type": "stream",
     "text": [
      "               label\n",
      "count  504324.000000\n",
      "mean        2.077908\n",
      "std         1.424227\n",
      "min         0.000000\n",
      "25%         1.000000\n",
      "50%         2.000000\n",
      "75%         3.000000\n",
      "max         4.000000\n",
      "              label\n",
      "count  38777.000000\n",
      "mean       2.076772\n",
      "std        1.424846\n",
      "min        0.000000\n",
      "25%        1.000000\n",
      "50%        2.000000\n",
      "75%        3.000000\n",
      "max        4.000000\n"
     ]
    }
   ],
   "execution_count": 12
  },
  {
   "metadata": {
    "ExecuteTime": {
     "end_time": "2025-07-15T23:31:58.788545Z",
     "start_time": "2025-07-15T23:31:58.559398Z"
    }
   },
   "cell_type": "code",
   "source": [
    "grouped_train = train.groupby('label')\n",
    "grouped_test = test.groupby('label')\n",
    "sample_train = grouped_train.sample(n=10000, random_state=42)\n",
    "sample_test = grouped_test.sample(n=6000,random_state=42)\n",
    "# sample_train = sample_train.reset_index(drop=True)\n",
    "print(sample_train.describe())\n",
    "print(sample_test.describe())"
   ],
   "id": "576cdf96bcc0e515",
   "outputs": [
    {
     "name": "stdout",
     "output_type": "stream",
     "text": [
      "              label\n",
      "count  50000.000000\n",
      "mean       2.000000\n",
      "std        1.414228\n",
      "min        0.000000\n",
      "25%        1.000000\n",
      "50%        2.000000\n",
      "75%        3.000000\n",
      "max        4.000000\n",
      "              label\n",
      "count  30000.000000\n",
      "mean       2.000000\n",
      "std        1.414237\n",
      "min        0.000000\n",
      "25%        1.000000\n",
      "50%        2.000000\n",
      "75%        3.000000\n",
      "max        4.000000\n"
     ]
    }
   ],
   "execution_count": 13
  },
  {
   "metadata": {
    "ExecuteTime": {
     "end_time": "2025-07-15T23:32:42.596888Z",
     "start_time": "2025-07-15T23:32:42.587076Z"
    }
   },
   "cell_type": "code",
   "source": [
    "train_filter_category_counts = sample_train['label'].value_counts().sort_index()\n",
    "test_filter_category_counts = sample_test['label'].value_counts().sort_index()\n",
    "print(train_filter_category_counts)\n",
    "print(test_filter_category_counts)"
   ],
   "id": "996d625199495690",
   "outputs": [
    {
     "name": "stdout",
     "output_type": "stream",
     "text": [
      "label\n",
      "0    10000\n",
      "1    10000\n",
      "2    10000\n",
      "3    10000\n",
      "4    10000\n",
      "Name: count, dtype: int64\n",
      "label\n",
      "0    6000\n",
      "1    6000\n",
      "2    6000\n",
      "3    6000\n",
      "4    6000\n",
      "Name: count, dtype: int64\n"
     ]
    }
   ],
   "execution_count": 15
  },
  {
   "metadata": {
    "ExecuteTime": {
     "end_time": "2025-07-15T23:34:08.155938Z",
     "start_time": "2025-07-15T23:34:07.520326Z"
    }
   },
   "cell_type": "code",
   "source": [
    "sample_train.to_csv('data/yelp_review_clean/train_samll.csv', index=False)\n",
    "sample_test.to_csv('data/yelp_review_clean/test_samll.csv', index=False)"
   ],
   "id": "ff0f4818a1917ac1",
   "outputs": [],
   "execution_count": 16
  }
 ],
 "metadata": {
  "kernelspec": {
   "display_name": "Python [conda env:base] *",
   "language": "python",
   "name": "conda-base-py"
  },
  "language_info": {
   "codemirror_mode": {
    "name": "ipython",
    "version": 2
   },
   "file_extension": ".py",
   "mimetype": "text/x-python",
   "name": "python",
   "nbconvert_exporter": "python",
   "pygments_lexer": "ipython2",
   "version": "2.7.6"
  }
 },
 "nbformat": 4,
 "nbformat_minor": 5
}
